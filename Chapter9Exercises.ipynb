{
 "cells": [
  {
   "cell_type": "markdown",
   "id": "84b5f555-b230-487b-9f7a-7f100cf28417",
   "metadata": {},
   "source": [
    "Writing to a text file:"
   ]
  },
  {
   "cell_type": "code",
   "execution_count": 1,
   "id": "65f54d74-c72e-4fcd-b213-d8cef686402d",
   "metadata": {},
   "outputs": [],
   "source": [
    "with open('accounts.txt', mode = 'w') as accounts:\n",
    "    accounts.write('100 Jones 24.98\\n')\n",
    "    accounts.write('200 Doe 345.67\\n')\n",
    "    accounts.write('300 White 0.00\\n')\n",
    "    accounts.write('400 Stone -42.16\\n')\n",
    "    accounts.write('500 Rich 224.62\\n')"
   ]
  },
  {
   "cell_type": "code",
   "execution_count": 2,
   "id": "c697b736-19a2-41f1-a519-ce0144bdcfcd",
   "metadata": {},
   "outputs": [],
   "source": [
    "with open ('grades.txt', mode = 'w') as grades:\n",
    "    grades.write('1 Red A\\n')\n",
    "    grades.write('2 Green B\\n')\n",
    "    grades.write('3 White A\\n')"
   ]
  },
  {
   "cell_type": "markdown",
   "id": "3ccceb7b-d2b3-457b-905d-7cbb6e40db66",
   "metadata": {},
   "source": [
    "Reading data from a text file:"
   ]
  },
  {
   "cell_type": "code",
   "execution_count": 3,
   "id": "6f06d235-6982-4434-a56e-c87dff540210",
   "metadata": {},
   "outputs": [
    {
     "name": "stdout",
     "output_type": "stream",
     "text": [
      "Account   Name         Balance\n",
      "100       Jones     24.98     \n",
      "200       Doe       345.67    \n",
      "300       White     0.00      \n",
      "400       Stone     -42.16    \n",
      "500       Rich      224.62    \n"
     ]
    }
   ],
   "source": [
    "with open ('accounts.txt', mode = 'r') as accounts:\n",
    "    print(f'{\"Account\":<10}{\"Name\":<10}{\"Balance\":>10}')\n",
    "    for record in accounts:\n",
    "        account, name, balance = record.split()\n",
    "        print(f'{account:<10}{name:<10}{balance:<10}')"
   ]
  },
  {
   "cell_type": "code",
   "execution_count": 4,
   "id": "8caf7944-504d-4b4d-8d1f-cd9ca37273a8",
   "metadata": {},
   "outputs": [
    {
     "name": "stdout",
     "output_type": "stream",
     "text": [
      "ID  Name   Grade\n",
      "1   Red    A\n",
      "2   Green  B\n",
      "3   White  A\n"
     ]
    }
   ],
   "source": [
    "with open ('grades.txt', mode = 'r') as grades:\n",
    "    print(f'{\"ID\":<4}{\"Name\":<7}{\"Grade\"}')\n",
    "    for record in grades:\n",
    "        student_id, name, grade = record.split()\n",
    "        print(f'{student_id:<4}{name:<7}{grade}')"
   ]
  },
  {
   "cell_type": "markdown",
   "id": "fcd19056-8ad7-4354-861e-c6f11b46da54",
   "metadata": {},
   "source": [
    "Updating a file:"
   ]
  },
  {
   "cell_type": "code",
   "execution_count": 5,
   "id": "b9f36cba-ca59-43d0-952e-21e28130f29c",
   "metadata": {},
   "outputs": [],
   "source": [
    "accounts = open('accounts.txt', 'r')\n",
    "temp_file = open('temp_file.txt', 'w')"
   ]
  },
  {
   "cell_type": "code",
   "execution_count": 6,
   "id": "40545513-ca09-4e58-95e0-b3d366569811",
   "metadata": {},
   "outputs": [],
   "source": [
    "with accounts, temp_file:\n",
    "    for record in accounts:\n",
    "        account, name, balance = record.split()\n",
    "        if account != '300':\n",
    "            temp_file.write(record)\n",
    "        else:\n",
    "            new_record = ' '.join([account, 'Williams', balance])\n",
    "            temp_file.write(new_record + '\\n')"
   ]
  },
  {
   "cell_type": "markdown",
   "id": "aa119cf8-e27f-4dda-ba0b-1c2cafb99eb9",
   "metadata": {},
   "source": [
    "Removing a file:"
   ]
  },
  {
   "cell_type": "code",
   "execution_count": 7,
   "id": "689cbd50-1a17-449e-a9ea-03ecc6f0a83b",
   "metadata": {},
   "outputs": [],
   "source": [
    "import os\n",
    "os.remove('accounts.txt')"
   ]
  },
  {
   "cell_type": "code",
   "execution_count": 8,
   "id": "cc32a093-3186-4498-9426-b2ea245caba5",
   "metadata": {},
   "outputs": [],
   "source": [
    "os.rename('temp_file.txt', 'accounts.txt')"
   ]
  },
  {
   "cell_type": "markdown",
   "id": "81ff3c2f-88aa-4901-a778-ae746850ce5d",
   "metadata": {},
   "source": [
    "Another Example:"
   ]
  },
  {
   "cell_type": "code",
   "execution_count": 9,
   "id": "2ad84a8c-9695-4d09-a8e8-3ea0a74752b2",
   "metadata": {},
   "outputs": [],
   "source": [
    "accounts = open('accounts.txt', 'r')\n",
    "temp_file = open('temp_file.txt', 'w')\n",
    "with accounts, temp_file:\n",
    "    for record in accounts:\n",
    "        account, name, balance = record.split()\n",
    "        if name != 'Doe':\n",
    "            temp_file.write(record)\n",
    "        else:\n",
    "            new_record = ' '.join([account, 'Smith', balance])\n",
    "            temp_file.write(new_record + '\\n')"
   ]
  },
  {
   "cell_type": "code",
   "execution_count": 10,
   "id": "7db90068-69d1-436f-9086-41eaf79877fc",
   "metadata": {},
   "outputs": [],
   "source": [
    "import os\n",
    "os.remove('accounts.txt')\n",
    "os.rename('temp_file.txt', 'accounts.txt')"
   ]
  },
  {
   "cell_type": "markdown",
   "id": "30d7013b-5936-47a2-b162-9aea5712ead1",
   "metadata": {},
   "source": [
    "JSON Practice: "
   ]
  },
  {
   "cell_type": "code",
   "execution_count": 11,
   "id": "a1a201a5-a109-4353-9844-108bf32f87c8",
   "metadata": {},
   "outputs": [],
   "source": [
    "accounts_dict = {'accounts': [\n",
    "    {'account': 100, 'name': 'Jones', 'balance': 24.98},\n",
    "    {'account':200, 'name': 'Doe', 'balance': 345.67}]}"
   ]
  },
  {
   "cell_type": "code",
   "execution_count": 12,
   "id": "ea0b94be-5a1d-4cda-a067-cc5d4eee8776",
   "metadata": {},
   "outputs": [],
   "source": [
    "import json \n",
    "with open('accounts.json', 'w') as accounts:\n",
    "    json.dump(accounts_dict, accounts)"
   ]
  },
  {
   "cell_type": "markdown",
   "id": "33366353-93d9-44d9-9401-7460f855d6a0",
   "metadata": {},
   "source": [
    "Displaying the JSON contents:"
   ]
  },
  {
   "cell_type": "code",
   "execution_count": 13,
   "id": "d3450508-4f40-49be-bab5-7f7cb73bad61",
   "metadata": {},
   "outputs": [
    {
     "data": {
      "text/plain": [
       "{'accounts': [{'account': 100, 'name': 'Jones', 'balance': 24.98},\n",
       "  {'account': 200, 'name': 'Doe', 'balance': 345.67}]}"
      ]
     },
     "execution_count": 13,
     "metadata": {},
     "output_type": "execute_result"
    }
   ],
   "source": [
    "with open('accounts.json', 'r') as accounts:\n",
    "    accounts_json = json.load(accounts)\n",
    "accounts_json"
   ]
  },
  {
   "cell_type": "code",
   "execution_count": 14,
   "id": "3b1c46f5-ec66-47f3-8f7f-933eda5c27a7",
   "metadata": {},
   "outputs": [
    {
     "data": {
      "text/plain": [
       "[{'account': 100, 'name': 'Jones', 'balance': 24.98},\n",
       " {'account': 200, 'name': 'Doe', 'balance': 345.67}]"
      ]
     },
     "execution_count": 14,
     "metadata": {},
     "output_type": "execute_result"
    }
   ],
   "source": [
    "accounts_json['accounts']"
   ]
  },
  {
   "cell_type": "markdown",
   "id": "27384987-6242-47eb-b787-a0d97c64dfeb",
   "metadata": {},
   "source": [
    "Finding a specific JSON index:"
   ]
  },
  {
   "cell_type": "code",
   "execution_count": 15,
   "id": "ab635455-f608-4a6b-8d03-c5e5a449c93c",
   "metadata": {},
   "outputs": [
    {
     "data": {
      "text/plain": [
       "{'account': 100, 'name': 'Jones', 'balance': 24.98}"
      ]
     },
     "execution_count": 15,
     "metadata": {},
     "output_type": "execute_result"
    }
   ],
   "source": [
    "accounts_json['accounts'][0]"
   ]
  },
  {
   "cell_type": "markdown",
   "id": "6484af8c-62ab-4526-a23e-9e6e19c527dd",
   "metadata": {},
   "source": [
    "\"Pretty\" JSON printing"
   ]
  },
  {
   "cell_type": "code",
   "execution_count": 16,
   "id": "9a2722eb-dec1-46f5-8a42-d3c08c3b4d93",
   "metadata": {},
   "outputs": [
    {
     "name": "stdout",
     "output_type": "stream",
     "text": [
      "{\n",
      "    \"accounts\": [\n",
      "        {\n",
      "            \"account\": 100,\n",
      "            \"name\": \"Jones\",\n",
      "            \"balance\": 24.98\n",
      "        },\n",
      "        {\n",
      "            \"account\": 200,\n",
      "            \"name\": \"Doe\",\n",
      "            \"balance\": 345.67\n",
      "        }\n",
      "    ]\n",
      "}\n"
     ]
    }
   ],
   "source": [
    "with open ('accounts.json', 'r') as accounts:\n",
    "    print(json.dumps(json.load(accounts), indent = 4))"
   ]
  },
  {
   "cell_type": "code",
   "execution_count": 17,
   "id": "581def81-befd-4f2d-8699-d97dff6a973c",
   "metadata": {},
   "outputs": [],
   "source": [
    "import json \n",
    "grades_dict = {'gradebook':\n",
    "        [{'student_id': 1, 'name': 'Red', 'grade': 'A'},\n",
    "         {'student_id': 2, 'name' : 'Green', 'grade': 'B'},\n",
    "         {'student_id': 3, 'name' : 'White', 'grade': 'A'}]}"
   ]
  },
  {
   "cell_type": "code",
   "execution_count": 18,
   "id": "4911456e-15d8-4825-a349-606de6fe4776",
   "metadata": {},
   "outputs": [],
   "source": [
    "with open('grades.json', 'w') as grades:\n",
    "    json.dump(grades_dict, grades)"
   ]
  },
  {
   "cell_type": "code",
   "execution_count": 19,
   "id": "68c657a9-17fe-440f-9b3e-ef595fbab3f0",
   "metadata": {},
   "outputs": [
    {
     "name": "stdout",
     "output_type": "stream",
     "text": [
      "{\n",
      "    \"gradebook\": [\n",
      "        {\n",
      "            \"student_id\": 1,\n",
      "            \"name\": \"Red\",\n",
      "            \"grade\": \"A\"\n",
      "        },\n",
      "        {\n",
      "            \"student_id\": 2,\n",
      "            \"name\": \"Green\",\n",
      "            \"grade\": \"B\"\n",
      "        },\n",
      "        {\n",
      "            \"student_id\": 3,\n",
      "            \"name\": \"White\",\n",
      "            \"grade\": \"A\"\n",
      "        }\n",
      "    ]\n",
      "}\n"
     ]
    }
   ],
   "source": [
    "with open('grades.json', 'r') as grades:\n",
    "    print(json.dumps(json.load(grades), indent = 4))"
   ]
  },
  {
   "cell_type": "markdown",
   "id": "5b25662f-0d9b-4b39-9895-1107bc1c977c",
   "metadata": {},
   "source": [
    "Exceptions in a try statement:"
   ]
  },
  {
   "cell_type": "code",
   "execution_count": 20,
   "id": "45902c93-b21c-4fc2-94ec-99a8d524f6e0",
   "metadata": {},
   "outputs": [
    {
     "name": "stdin",
     "output_type": "stream",
     "text": [
      "Enter numerator:  7\n",
      "Enter denominator:  8\n"
     ]
    },
    {
     "name": "stdout",
     "output_type": "stream",
     "text": [
      "7.000 / 8.000 = 0.875\n"
     ]
    }
   ],
   "source": [
    "while True: \n",
    "    try: \n",
    "        number1 = int(input('Enter numerator: '))\n",
    "        number2 = int(input('Enter denominator: '))\n",
    "        result = number1/number2\n",
    "    except ValueError:\n",
    "        print('You must enter two integers\\n')\n",
    "    except ZeroDivisionError: \n",
    "        print('Attempted to divide by zero\\n')\n",
    "    else:\n",
    "        print(f'{number1:.3f} / {number2:.3f} = {result:.3f}')\n",
    "        break"
   ]
  },
  {
   "cell_type": "code",
   "execution_count": 21,
   "id": "6b37b4af-bbca-49bc-9d05-53979e8b7c95",
   "metadata": {},
   "outputs": [],
   "source": [
    "def try_it(value):\n",
    "    try:\n",
    "        x = int(value)\n",
    "    except ValueError:\n",
    "        print(f'{value} could not be converted to an integer')\n",
    "    else:\n",
    "        print(f'int({value}) is {int(value)}')"
   ]
  },
  {
   "cell_type": "code",
   "execution_count": 22,
   "id": "c16325ea-81b0-4f72-84d0-3879f883d7ef",
   "metadata": {},
   "outputs": [
    {
     "name": "stdout",
     "output_type": "stream",
     "text": [
      "int(10.7) is 10\n"
     ]
    }
   ],
   "source": [
    "try_it(10.7)"
   ]
  },
  {
   "cell_type": "markdown",
   "id": "cbc12c6a-2f78-479b-858a-c8adecc72919",
   "metadata": {},
   "source": [
    "Try suite and finally statement"
   ]
  },
  {
   "cell_type": "code",
   "execution_count": 23,
   "id": "ceb8eda4-b8c0-4bab-bfe7-8385bb13b1b5",
   "metadata": {},
   "outputs": [
    {
     "name": "stdout",
     "output_type": "stream",
     "text": [
      "try suite that raises an exception\n",
      "a ValueError occured\n",
      "finally always executes\n"
     ]
    }
   ],
   "source": [
    "try:\n",
    "    print('try suite that raises an exception')\n",
    "    int('hello')\n",
    "    print('this will not execute')\n",
    "except ValueError:\n",
    "    print('a ValueError occured')\n",
    "else:\n",
    "    print('else will not execute because an exception occured')\n",
    "finally:\n",
    "    print('finally always executes')"
   ]
  },
  {
   "cell_type": "code",
   "execution_count": 24,
   "id": "b5790dc7-58b1-433f-9737-2d28e08f1a74",
   "metadata": {},
   "outputs": [],
   "source": [
    "def try_it(value):\n",
    "    try:\n",
    "        x = int(value)\n",
    "    except ValueError:\n",
    "        print(f'{value} could not be converted to an integer')\n",
    "    else:\n",
    "        print(f'int({value}) is {int(value)}')\n",
    "    finally:\n",
    "        print('Finally executed')"
   ]
  },
  {
   "cell_type": "code",
   "execution_count": 25,
   "id": "b53d2545-de29-4591-85f1-89e4bfd00823",
   "metadata": {},
   "outputs": [
    {
     "name": "stdout",
     "output_type": "stream",
     "text": [
      "Python could not be converted to an integer\n",
      "Finally executed\n"
     ]
    }
   ],
   "source": [
    "try_it('Python')"
   ]
  },
  {
   "cell_type": "markdown",
   "id": "a4c939de-b3f3-4716-94e0-3d3a44c49eb0",
   "metadata": {},
   "source": [
    "CSV Files practice:"
   ]
  },
  {
   "cell_type": "code",
   "execution_count": 26,
   "id": "9394d1a3-c67c-449b-8538-df861c1d0953",
   "metadata": {},
   "outputs": [],
   "source": [
    "import csv\n",
    "with open ('accounts.csv', mode = 'w', newline = '') as accounts:\n",
    "    writer = csv.writer(accounts)\n",
    "    writer.writerow([100, 'Jones', 24.96])\n",
    "    writer.writerow([200, 'Doe', 345.67])\n",
    "    writer.writerow([300, 'White', 0.00])\n",
    "    writer.writerow([400, 'Stone', -42.16])\n",
    "    writer.writerow([500, 'Rich', 224.62])"
   ]
  },
  {
   "cell_type": "code",
   "execution_count": 27,
   "id": "6b92e31b-b171-4d09-8d0d-2b5a89a593dd",
   "metadata": {},
   "outputs": [
    {
     "name": "stdout",
     "output_type": "stream",
     "text": [
      "Account   Name         Balance\n",
      "100       Jones          24.96\n",
      "200       Doe           345.67\n",
      "300       White            0.0\n",
      "400       Stone         -42.16\n",
      "500       Rich          224.62\n"
     ]
    }
   ],
   "source": [
    "with open('accounts.csv', 'r', newline='') as accounts:\n",
    "    print(f'{\"Account\":<10}{\"Name\":<10}{\"Balance\":>10}')\n",
    "    reader = csv.reader(accounts)\n",
    "    for record in reader:\n",
    "        account, name, balance = record\n",
    "        print(f'{account:<10}{name:<10}{balance:>10}')"
   ]
  },
  {
   "cell_type": "markdown",
   "id": "43b95916-391f-49d7-a1cd-74c716513f19",
   "metadata": {},
   "source": [
    "Reading the Titanic Disaster Dataset"
   ]
  },
  {
   "cell_type": "code",
   "execution_count": 29,
   "id": "c8fbce1b-4834-43ff-b3e1-50001ab276c2",
   "metadata": {},
   "outputs": [],
   "source": [
    "import pandas as pd\n",
    "titanic = pd.read_csv('https://vincentarelbundock.github.io/' + 'Rdatasets/csv/carData/TitanicSurvival.csv')"
   ]
  },
  {
   "cell_type": "code",
   "execution_count": 33,
   "id": "cdf3056e-18c2-4182-b1b0-de5f5a54dc3d",
   "metadata": {},
   "outputs": [
    {
     "data": {
      "text/html": [
       "<div>\n",
       "<style scoped>\n",
       "    .dataframe tbody tr th:only-of-type {\n",
       "        vertical-align: middle;\n",
       "    }\n",
       "\n",
       "    .dataframe tbody tr th {\n",
       "        vertical-align: top;\n",
       "    }\n",
       "\n",
       "    .dataframe thead th {\n",
       "        text-align: right;\n",
       "    }\n",
       "</style>\n",
       "<table border=\"1\" class=\"dataframe\">\n",
       "  <thead>\n",
       "    <tr style=\"text-align: right;\">\n",
       "      <th></th>\n",
       "      <th>Unnamed: 0</th>\n",
       "      <th>survived</th>\n",
       "      <th>sex</th>\n",
       "      <th>age</th>\n",
       "      <th>passengerClass</th>\n",
       "    </tr>\n",
       "  </thead>\n",
       "  <tbody>\n",
       "    <tr>\n",
       "      <th>0</th>\n",
       "      <td>Allen, Miss. Elisabeth Walton</td>\n",
       "      <td>yes</td>\n",
       "      <td>female</td>\n",
       "      <td>29.0000</td>\n",
       "      <td>1st</td>\n",
       "    </tr>\n",
       "    <tr>\n",
       "      <th>1</th>\n",
       "      <td>Allison, Master. Hudson Trevor</td>\n",
       "      <td>yes</td>\n",
       "      <td>male</td>\n",
       "      <td>0.9167</td>\n",
       "      <td>1st</td>\n",
       "    </tr>\n",
       "    <tr>\n",
       "      <th>2</th>\n",
       "      <td>Allison, Miss. Helen Loraine</td>\n",
       "      <td>no</td>\n",
       "      <td>female</td>\n",
       "      <td>2.0000</td>\n",
       "      <td>1st</td>\n",
       "    </tr>\n",
       "    <tr>\n",
       "      <th>3</th>\n",
       "      <td>Allison, Mr. Hudson Joshua Crei</td>\n",
       "      <td>no</td>\n",
       "      <td>male</td>\n",
       "      <td>30.0000</td>\n",
       "      <td>1st</td>\n",
       "    </tr>\n",
       "    <tr>\n",
       "      <th>4</th>\n",
       "      <td>Allison, Mrs. Hudson J C (Bessi</td>\n",
       "      <td>no</td>\n",
       "      <td>female</td>\n",
       "      <td>25.0000</td>\n",
       "      <td>1st</td>\n",
       "    </tr>\n",
       "  </tbody>\n",
       "</table>\n",
       "</div>"
      ],
      "text/plain": [
       "                        Unnamed: 0 survived     sex      age passengerClass\n",
       "0    Allen, Miss. Elisabeth Walton      yes  female  29.0000            1st\n",
       "1   Allison, Master. Hudson Trevor      yes    male   0.9167            1st\n",
       "2     Allison, Miss. Helen Loraine       no  female   2.0000            1st\n",
       "3  Allison, Mr. Hudson Joshua Crei       no    male  30.0000            1st\n",
       "4  Allison, Mrs. Hudson J C (Bessi       no  female  25.0000            1st"
      ]
     },
     "execution_count": 33,
     "metadata": {},
     "output_type": "execute_result"
    }
   ],
   "source": [
    "titanic.head()"
   ]
  },
  {
   "cell_type": "code",
   "execution_count": 37,
   "id": "6941e835-7c2d-4c72-aa78-cd390fffdc5a",
   "metadata": {},
   "outputs": [
    {
     "data": {
      "text/html": [
       "<div>\n",
       "<style scoped>\n",
       "    .dataframe tbody tr th:only-of-type {\n",
       "        vertical-align: middle;\n",
       "    }\n",
       "\n",
       "    .dataframe tbody tr th {\n",
       "        vertical-align: top;\n",
       "    }\n",
       "\n",
       "    .dataframe thead th {\n",
       "        text-align: right;\n",
       "    }\n",
       "</style>\n",
       "<table border=\"1\" class=\"dataframe\">\n",
       "  <thead>\n",
       "    <tr style=\"text-align: right;\">\n",
       "      <th></th>\n",
       "      <th>Unnamed: 0</th>\n",
       "      <th>survived</th>\n",
       "      <th>sex</th>\n",
       "      <th>age</th>\n",
       "      <th>passengerClass</th>\n",
       "    </tr>\n",
       "  </thead>\n",
       "  <tbody>\n",
       "    <tr>\n",
       "      <th>1304</th>\n",
       "      <td>Zabour, Miss. Hileni</td>\n",
       "      <td>no</td>\n",
       "      <td>female</td>\n",
       "      <td>14.5</td>\n",
       "      <td>3rd</td>\n",
       "    </tr>\n",
       "    <tr>\n",
       "      <th>1305</th>\n",
       "      <td>Zabour, Miss. Thamine</td>\n",
       "      <td>no</td>\n",
       "      <td>female</td>\n",
       "      <td>NaN</td>\n",
       "      <td>3rd</td>\n",
       "    </tr>\n",
       "    <tr>\n",
       "      <th>1306</th>\n",
       "      <td>Zakarian, Mr. Mapriededer</td>\n",
       "      <td>no</td>\n",
       "      <td>male</td>\n",
       "      <td>26.5</td>\n",
       "      <td>3rd</td>\n",
       "    </tr>\n",
       "    <tr>\n",
       "      <th>1307</th>\n",
       "      <td>Zakarian, Mr. Ortin</td>\n",
       "      <td>no</td>\n",
       "      <td>male</td>\n",
       "      <td>27.0</td>\n",
       "      <td>3rd</td>\n",
       "    </tr>\n",
       "    <tr>\n",
       "      <th>1308</th>\n",
       "      <td>Zimmerman, Mr. Leo</td>\n",
       "      <td>no</td>\n",
       "      <td>male</td>\n",
       "      <td>29.0</td>\n",
       "      <td>3rd</td>\n",
       "    </tr>\n",
       "  </tbody>\n",
       "</table>\n",
       "</div>"
      ],
      "text/plain": [
       "                     Unnamed: 0 survived     sex   age passengerClass\n",
       "1304       Zabour, Miss. Hileni       no  female  14.5            3rd\n",
       "1305      Zabour, Miss. Thamine       no  female   NaN            3rd\n",
       "1306  Zakarian, Mr. Mapriededer       no    male  26.5            3rd\n",
       "1307        Zakarian, Mr. Ortin       no    male  27.0            3rd\n",
       "1308         Zimmerman, Mr. Leo       no    male  29.0            3rd"
      ]
     },
     "execution_count": 37,
     "metadata": {},
     "output_type": "execute_result"
    }
   ],
   "source": [
    "titanic.tail()"
   ]
  },
  {
   "cell_type": "code",
   "execution_count": 38,
   "id": "50a546e7-86ec-48d1-9d7d-dee5d9aa9140",
   "metadata": {},
   "outputs": [
    {
     "data": {
      "text/html": [
       "<div>\n",
       "<style scoped>\n",
       "    .dataframe tbody tr th:only-of-type {\n",
       "        vertical-align: middle;\n",
       "    }\n",
       "\n",
       "    .dataframe tbody tr th {\n",
       "        vertical-align: top;\n",
       "    }\n",
       "\n",
       "    .dataframe thead th {\n",
       "        text-align: right;\n",
       "    }\n",
       "</style>\n",
       "<table border=\"1\" class=\"dataframe\">\n",
       "  <thead>\n",
       "    <tr style=\"text-align: right;\">\n",
       "      <th></th>\n",
       "      <th>name</th>\n",
       "      <th>survived</th>\n",
       "      <th>sex</th>\n",
       "      <th>age</th>\n",
       "      <th>class</th>\n",
       "    </tr>\n",
       "  </thead>\n",
       "  <tbody>\n",
       "    <tr>\n",
       "      <th>0</th>\n",
       "      <td>Allen, Miss. Elisabeth Walton</td>\n",
       "      <td>yes</td>\n",
       "      <td>female</td>\n",
       "      <td>29.0000</td>\n",
       "      <td>1st</td>\n",
       "    </tr>\n",
       "    <tr>\n",
       "      <th>1</th>\n",
       "      <td>Allison, Master. Hudson Trevor</td>\n",
       "      <td>yes</td>\n",
       "      <td>male</td>\n",
       "      <td>0.9167</td>\n",
       "      <td>1st</td>\n",
       "    </tr>\n",
       "    <tr>\n",
       "      <th>2</th>\n",
       "      <td>Allison, Miss. Helen Loraine</td>\n",
       "      <td>no</td>\n",
       "      <td>female</td>\n",
       "      <td>2.0000</td>\n",
       "      <td>1st</td>\n",
       "    </tr>\n",
       "    <tr>\n",
       "      <th>3</th>\n",
       "      <td>Allison, Mr. Hudson Joshua Crei</td>\n",
       "      <td>no</td>\n",
       "      <td>male</td>\n",
       "      <td>30.0000</td>\n",
       "      <td>1st</td>\n",
       "    </tr>\n",
       "    <tr>\n",
       "      <th>4</th>\n",
       "      <td>Allison, Mrs. Hudson J C (Bessi</td>\n",
       "      <td>no</td>\n",
       "      <td>female</td>\n",
       "      <td>25.0000</td>\n",
       "      <td>1st</td>\n",
       "    </tr>\n",
       "  </tbody>\n",
       "</table>\n",
       "</div>"
      ],
      "text/plain": [
       "                              name survived     sex      age class\n",
       "0    Allen, Miss. Elisabeth Walton      yes  female  29.0000   1st\n",
       "1   Allison, Master. Hudson Trevor      yes    male   0.9167   1st\n",
       "2     Allison, Miss. Helen Loraine       no  female   2.0000   1st\n",
       "3  Allison, Mr. Hudson Joshua Crei       no    male  30.0000   1st\n",
       "4  Allison, Mrs. Hudson J C (Bessi       no  female  25.0000   1st"
      ]
     },
     "execution_count": 38,
     "metadata": {},
     "output_type": "execute_result"
    }
   ],
   "source": [
    "titanic.columns = ['name', 'survived', 'sex', 'age', 'class']\n",
    "titanic.head()"
   ]
  },
  {
   "cell_type": "code",
   "execution_count": 39,
   "id": "3032da38-631f-43b5-a85c-3a02edec38a6",
   "metadata": {},
   "outputs": [
    {
     "data": {
      "text/html": [
       "<div>\n",
       "<style scoped>\n",
       "    .dataframe tbody tr th:only-of-type {\n",
       "        vertical-align: middle;\n",
       "    }\n",
       "\n",
       "    .dataframe tbody tr th {\n",
       "        vertical-align: top;\n",
       "    }\n",
       "\n",
       "    .dataframe thead th {\n",
       "        text-align: right;\n",
       "    }\n",
       "</style>\n",
       "<table border=\"1\" class=\"dataframe\">\n",
       "  <thead>\n",
       "    <tr style=\"text-align: right;\">\n",
       "      <th></th>\n",
       "      <th>age</th>\n",
       "    </tr>\n",
       "  </thead>\n",
       "  <tbody>\n",
       "    <tr>\n",
       "      <th>count</th>\n",
       "      <td>1046.000000</td>\n",
       "    </tr>\n",
       "    <tr>\n",
       "      <th>mean</th>\n",
       "      <td>29.881135</td>\n",
       "    </tr>\n",
       "    <tr>\n",
       "      <th>std</th>\n",
       "      <td>14.413500</td>\n",
       "    </tr>\n",
       "    <tr>\n",
       "      <th>min</th>\n",
       "      <td>0.166700</td>\n",
       "    </tr>\n",
       "    <tr>\n",
       "      <th>25%</th>\n",
       "      <td>21.000000</td>\n",
       "    </tr>\n",
       "    <tr>\n",
       "      <th>50%</th>\n",
       "      <td>28.000000</td>\n",
       "    </tr>\n",
       "    <tr>\n",
       "      <th>75%</th>\n",
       "      <td>39.000000</td>\n",
       "    </tr>\n",
       "    <tr>\n",
       "      <th>max</th>\n",
       "      <td>80.000000</td>\n",
       "    </tr>\n",
       "  </tbody>\n",
       "</table>\n",
       "</div>"
      ],
      "text/plain": [
       "               age\n",
       "count  1046.000000\n",
       "mean     29.881135\n",
       "std      14.413500\n",
       "min       0.166700\n",
       "25%      21.000000\n",
       "50%      28.000000\n",
       "75%      39.000000\n",
       "max      80.000000"
      ]
     },
     "execution_count": 39,
     "metadata": {},
     "output_type": "execute_result"
    }
   ],
   "source": [
    "titanic.describe()"
   ]
  },
  {
   "cell_type": "code",
   "execution_count": 40,
   "id": "6c52df87-84ae-4881-9ec2-6830f8ab728b",
   "metadata": {},
   "outputs": [
    {
     "data": {
      "text/plain": [
       "count      1309\n",
       "unique        2\n",
       "top       False\n",
       "freq        809\n",
       "Name: survived, dtype: object"
      ]
     },
     "execution_count": 40,
     "metadata": {},
     "output_type": "execute_result"
    }
   ],
   "source": [
    "(titanic.survived == 'yes').describe()"
   ]
  },
  {
   "cell_type": "code",
   "execution_count": 45,
   "id": "3e7ea743-4afb-433c-900c-77d4695949c0",
   "metadata": {},
   "outputs": [],
   "source": [
    "histogram = titanic.hist()"
   ]
  }
 ],
 "metadata": {
  "kernelspec": {
   "display_name": "Python 3 (ipykernel)",
   "language": "python",
   "name": "python3"
  },
  "language_info": {
   "codemirror_mode": {
    "name": "ipython",
    "version": 3
   },
   "file_extension": ".py",
   "mimetype": "text/x-python",
   "name": "python",
   "nbconvert_exporter": "python",
   "pygments_lexer": "ipython3",
   "version": "3.9.12"
  }
 },
 "nbformat": 4,
 "nbformat_minor": 5
}
